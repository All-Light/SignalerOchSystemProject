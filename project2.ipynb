{
 "cells": [
  {
   "cell_type": "code",
   "execution_count": null,
   "id": "a4820e65",
   "metadata": {},
   "outputs": [],
   "source": [
    "import numpy as np\n",
    "import matplotlib\n",
    "matplotlib.use('TkAgg')\n",
    "import matplotlib.pyplot as plt\n",
    "from matplotlib.widgets import TextBox\n",
    "from scipy.signal import TransferFunction, bode, impulse, tf2zpk, lsim, square"
   ]
  },
  {
   "cell_type": "code",
   "execution_count": null,
   "id": "058acc76",
   "metadata": {},
   "outputs": [],
   "source": [
    "# Requirements\n",
    "# Interesting signal F_i =< 8 kHz, A_i =< 1\n",
    "# Noise signal F_n >= 11 kHz, A_n =< 1\n",
    "# No signal between 8 kHz to 11 kHz\n",
    "\n",
    "# Design a anti-aliasing filter (LP) followed by 12-bit AD converter sampling at F_s <= 24 kHz\n",
    "# Minimize order of anti-aliasing filter\n",
    "# Interference in final signal must not exceed 0.5/2^11 V. \n",
    "# Maximum ripple 3 dB"
   ]
  }
 ],
 "metadata": {
  "language_info": {
   "name": "python"
  }
 },
 "nbformat": 4,
 "nbformat_minor": 5
}
