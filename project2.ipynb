{
 "cells": [
  {
   "cell_type": "code",
   "execution_count": 2,
   "id": "a4820e65",
   "metadata": {},
   "outputs": [],
   "source": [
    "import numpy as np\n",
    "import matplotlib\n",
    "matplotlib.use('TkAgg')\n",
    "import matplotlib.pyplot as plt\n",
    "from scipy.signal import TransferFunction, lsim, cheby1, butter, bode, lti\n",
    "from scipy.fft import fft, ifft"
   ]
  },
  {
   "cell_type": "markdown",
   "id": "058acc76",
   "metadata": {},
   "source": [
    "# Requirements\n",
    "Interesting signal f_i =< 8 kHz, A_i =< 1\n",
    "Noise signal f_n >= 11 kHz, A_n =< 1\n",
    "No signal between 8 kHz to 11 kHz\n",
    "\n",
    "# Task\n",
    "Design a anti-aliasing filter (LP) followed by 12-bit AD converter sampling at f_s <= 24 kHz\n",
    "Minimize order of anti-aliasing filter\n",
    "Interference in final signal must not exceed 0.5/2^11 V. \n",
    "Maximum ripple 3 dB\n",
    "\n",
    "# Thoughts\n",
    "The minimal sampling rate f_s  > 2*beta, where beta is the maximum interesting frequency\n",
    "Thus we need f_s > 16 kHz\n",
    "Let's start with f_s = 17 kHz\n",
    "\n",
    "Let's start by calculating the order of the Butterworth filter \n",
    "The order N is derived by: \n",
    "N = 1/2 * log(G_p / G_s) / log(w_p/w_s)\n",
    "Where:\n",
    "G_p is the gain of the pass-band: G_p = 1/(1-δ_p)^2 - 1\n",
    "G_s is the gain of the stop-band: G_s = 1/δ_s^2 -1 \n",
    "Note that δ_p is the maximum ripple/deviation in the pass-band and δ_s is the maximum ripple/deviation in the stop-band\n",
    "\n",
    "w_p is the maximum frequency of the pass-band\n",
    "w_s is the minimum frequency of the stop-band \n",
    "We choose w_p 8 kHz and w_s 11 kHz and caluclate the order:"
   ]
  },
  {
   "cell_type": "code",
   "execution_count": 3,
   "id": "80370755",
   "metadata": {},
   "outputs": [],
   "source": [
    "w_p, w_s = 8000, 11000\n",
    "# A_db = 20*log(A1/A2) -> A1 = A2*10^(A_db/20)\n",
    "δ_p = 10**(3/20)  # 1.4125375446227544\n",
    "δ_s = 0.5/2**11 # maximum interference allowed by specification\n",
    "G_p = 1/(1-δ_p)**2 - 1 #4.875881669435278\n",
    "G_s = 1/δ_s**2 -1  #"
   ]
  },
  {
   "cell_type": "code",
   "execution_count": 4,
   "id": "5b6d4dc0",
   "metadata": {},
   "outputs": [
    {
     "name": "stdout",
     "output_type": "stream",
     "text": [
      "23.63173965273065\n"
     ]
    }
   ],
   "source": [
    "#Butter\n",
    "N = 1/2 * np.log(G_p/G_s)/np.log(w_p/w_s)\n",
    "print(N) # We need N >= 24"
   ]
  },
  {
   "cell_type": "code",
   "execution_count": 22,
   "id": "2458d0c2",
   "metadata": {},
   "outputs": [],
   "source": [
    "# plot the butterworth filter \n",
    "order = 24\n",
    "b,a = butter(order, 8000*2*np.pi, 'lowpass', analog=True)\n",
    "f_s = 17000\n",
    "w, mag, phase = bode((b, a), w=np.logspace(0,6,2000))  # frequency response\n",
    "\n",
    "plt.figure(figsize=(10, 6))\n",
    "plt.semilogx(w / (2*np.pi), mag)  # convert rad/s → Hz\n",
    "plt.title('Chebyshev Type I Lowpass Filter (analog)')\n",
    "plt.ylabel('Magnitude [dB]')\n",
    "plt.grid(True, which='both')\n",
    "plt.show()"
   ]
  },
  {
   "cell_type": "markdown",
   "id": "fea9085f",
   "metadata": {},
   "source": [
    "Let's also calculate the order needed for a Chebyshev I filter. They generally have a faster roll-off but might become unstable.\n",
    "The order of the Chebyshev I filter is defined as:\n",
    "N = cosh^-1 (sqrt(G_s/G_p))\n",
    "\n",
    "The ripple control factor ϵ is defined as \n",
    "\n",
    "ϵ = sqrt(G_p) with G_p defined the same as above: G_p = 1/(1-δ_p)^2 - 1"
   ]
  },
  {
   "cell_type": "code",
   "execution_count": 6,
   "id": "baf8cfb1",
   "metadata": {},
   "outputs": [
    {
     "name": "stdout",
     "output_type": "stream",
     "text": [
      "9.772382819316107\n"
     ]
    }
   ],
   "source": [
    "# Chebyshev\n",
    "w_p, w_s = 8000, 11000\n",
    "# A_db = 20*log(A1/A2) -> A1 = A2*10^(A_db/20)\n",
    "δ_p = 10**(3/20)  # 1.4125375446227544\n",
    "δ_s = 0.5/2**11 # maximum interference allowed by specification\n",
    "G_p = 1/(1-δ_p)**2 - 1 #4.875881669435278\n",
    "G_s = 1/δ_s**2 -1  \n",
    "\n",
    "ϵ = np.sqrt(1/(1-δ_p)**2 - 1) # 2.2081398663660954\n",
    "\n",
    "N = np.arccosh(np.sqrt(G_s/G_p))/np.arccosh(w_s/w_p) # 9.772382819316107\n",
    "print(N) "
   ]
  },
  {
   "cell_type": "markdown",
   "id": "c278a3b2",
   "metadata": {},
   "source": [
    "We can clearly see the Chebyshev I filter is much lower order (10) than Butterworth (24)\n",
    "We choose the Order 10 Chebyshev I filter"
   ]
  },
  {
   "cell_type": "code",
   "execution_count": 45,
   "id": "0cf23028",
   "metadata": {},
   "outputs": [],
   "source": [
    "order = 10\n",
    "b,a  = cheby1(order, 3, 8000*2*np.pi, 'lowpass', analog=True)\n",
    "filter_c = lti(b,a)"
   ]
  },
  {
   "cell_type": "code",
   "execution_count": 44,
   "id": "5bb100f0",
   "metadata": {},
   "outputs": [],
   "source": [
    "f_s = 17000\n",
    "w, mag, phase = bode((b, a), w=np.logspace(0,6,2000))  # frequency response\n",
    "\n",
    "plt.figure(figsize=(10, 6))\n",
    "plt.semilogx(w / (2*np.pi), mag)  # convert rad/s → Hz\n",
    "plt.title('Chebyshev Type I Lowpass Filter (analog)')\n",
    "plt.ylabel('Magnitude [dB]')\n",
    "plt.grid(True, which='both')\n",
    "plt.show()"
   ]
  },
  {
   "cell_type": "code",
   "execution_count": 75,
   "id": "8f57b129",
   "metadata": {},
   "outputs": [],
   "source": [
    "# w = 2*pi*f\n",
    "f_s = 17000\n",
    "T_s = 1/f_s\n",
    "n_samples = 10\n",
    "t = np.arange(n_samples) * T_s\n",
    "\n",
    "def x1(t):\n",
    "    return np.sin(2*np.pi*8000*t) # 8 kHz\n",
    "\n",
    "def x2(t):\n",
    "    return np.sin(2*np.pi*12000*t) # 12 kHz\n"
   ]
  },
  {
   "cell_type": "code",
   "execution_count": 76,
   "id": "473bf476",
   "metadata": {},
   "outputs": [],
   "source": [
    "# Raw signals\n",
    "plt.plot(t, x1(t), label=\"8 kHz signal\")\n",
    "plt.plot(t, x2(t), label=\"12 kHz signal\")\n",
    "plt.xlabel(\"Time [s]\")\n",
    "plt.ylabel(\"Amplitude [V]\")\n",
    "plt.legend()\n",
    "plt.show()"
   ]
  },
  {
   "cell_type": "code",
   "execution_count": 79,
   "id": "b824032f",
   "metadata": {},
   "outputs": [
    {
     "name": "stderr",
     "output_type": "stream",
     "text": [
      "invalid command name \"139643028895296process_stream_events\"\n",
      "    while executing\n",
      "\"139643028895296process_stream_events\"\n",
      "    (\"after\" script)\n",
      "can't invoke \"event\" command: application has been destroyed\n",
      "    while executing\n",
      "\"event generate $w <<ThemeChanged>>\"\n",
      "    (procedure \"ttk::ThemeChanged\" line 6)\n",
      "    invoked from within\n",
      "\"ttk::ThemeChanged\"\n"
     ]
    }
   ],
   "source": [
    "# Raw Superposition \n",
    "plt.plot(t, x1(t)+ x2(t), label=\"Superposition of signals\")\n",
    "plt.xlabel(\"Time [s]\")\n",
    "plt.ylabel(\"Amplitude [V]\")\n",
    "plt.legend()\n",
    "plt.show()"
   ]
  },
  {
   "cell_type": "code",
   "execution_count": null,
   "id": "22e6882e",
   "metadata": {},
   "outputs": [],
   "source": [
    "# Filtered Superposition  \n",
    "fs_high = 10_000_000  # 10 MHz \"analog simulation rate\"\n",
    "t_high = np.arange(0, 5e-3, 1/fs_high)  # 5 ms\n",
    "x_super= x1(t_high) + x2(t_high)\n",
    "\n",
    "t_out, y_out, _ = lsim(filter_c, x_super, t_high)\n",
    "t_samples = np.arange(0,t_high[-1], T_s)\n",
    "y_samples = np.interp(t_samples, t_out, y_out)\n",
    "\n",
    "plt.plot(t_samples*1000, y_samples, label=\"Filtered & sampled superposition of signals\")\n",
    "#plt.plot(t_out*1000, y_out, label=\"Filtered superposition of signals\")\n",
    "plt.xlabel(\"Time [ms]\")\n",
    "plt.ylabel(\"Amplitude [V]\")\n",
    "plt.legend()\n",
    "plt.show()"
   ]
  },
  {
   "cell_type": "code",
   "execution_count": 39,
   "id": "70712a8a",
   "metadata": {},
   "outputs": [],
   "source": [
    "# Sampled signals\n",
    "t1 = np.linspace(0, 15*T_s, 15) # 15 samples on a time of 15 sample periods -> sampling\n",
    "x1_s = x1(t1)\n",
    "x2_s = x2(t1)\n",
    "\n",
    "plt.plot(t1, x1_s, label=\"1 kHz signal\")\n",
    "plt.plot(t1, x2_s, label=\"12 kHz signal\")\n",
    "plt.xlabel(\"Time [s]\")\n",
    "plt.ylabel(\"Amplitude [V]\")\n",
    "plt.legend()\n",
    "plt.show()"
   ]
  }
 ],
 "metadata": {
  "kernelspec": {
   "display_name": ".venv",
   "language": "python",
   "name": "python3"
  },
  "language_info": {
   "codemirror_mode": {
    "name": "ipython",
    "version": 3
   },
   "file_extension": ".py",
   "mimetype": "text/x-python",
   "name": "python",
   "nbconvert_exporter": "python",
   "pygments_lexer": "ipython3",
   "version": "3.11.2"
  }
 },
 "nbformat": 4,
 "nbformat_minor": 5
}
