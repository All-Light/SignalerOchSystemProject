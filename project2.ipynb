{
 "cells": [
  {
   "cell_type": "code",
   "execution_count": 13,
   "id": "a4820e65",
   "metadata": {},
   "outputs": [],
   "source": [
    "import numpy as np\n",
    "import matplotlib\n",
    "matplotlib.use('TkAgg')\n",
    "import matplotlib.pyplot as plt\n",
    "from scipy.signal import TransferFunction, lsim, butter\n",
    "from scipy.fft import fft, ifft\n"
   ]
  },
  {
   "cell_type": "code",
   "execution_count": null,
   "id": "058acc76",
   "metadata": {},
   "outputs": [],
   "source": [
    "# Requirements\n",
    "# Interesting signal f_i =< 8 kHz, A_i =< 1\n",
    "# Noise signal f_n >= 11 kHz, A_n =< 1\n",
    "# No signal between 8 kHz to 11 kHz\n",
    "\n",
    "# Design a anti-aliasing filter (LP) followed by 12-bit AD converter sampling at f_s <= 24 kHz\n",
    "# Minimize order of anti-aliasing filter\n",
    "# Interference in final signal must not exceed 0.5/2^11 V. \n",
    "# Maximum ripple 3 dB"
   ]
  },
  {
   "cell_type": "code",
   "execution_count": null,
   "id": "71fedbb1",
   "metadata": {},
   "outputs": [],
   "source": [
    "# The minimal sampling rate f_s  > 2*beta, where beta is the maximum interesting frequency\n",
    "# Thus we need f_s > 16 kHz\n",
    "# Let's start with f_s = 17 kHz\n",
    "\n",
    "# Let's use the Butterworth filter \n"
   ]
  },
  {
   "cell_type": "code",
   "execution_count": null,
   "id": "0cf23028",
   "metadata": {},
   "outputs": [],
   "source": [
    "order = 2\n",
    "b_filter = butter(order, 8000,'lowpass', analog=True)"
   ]
  },
  {
   "cell_type": "code",
   "execution_count": null,
   "id": "8f57b129",
   "metadata": {},
   "outputs": [],
   "source": [
    "# w = 2*pi*f\n",
    "f_s = 17000\n",
    "t = np.linspace(0, 15*1/f_s, 100000)\n",
    "\n",
    "def x1(t):\n",
    "    return np.sin(2*np.pi*1000*t) # 1 kHz\n",
    "\n",
    "def x2(t):\n",
    "    return np.sin(2*np.pi*12000*t) # 12 kHz\n",
    "\n",
    "\n",
    "plt.plot(t, x1(t), label=\"1 kHz signal\")\n",
    "plt.plot(t, x2(t), label=\"12 kHz signal\")\n",
    "plt.xlabel(\"Time [s]\")\n",
    "plt.ylabel(\"Amplitude [V]\")\n",
    "plt.legend()\n",
    "plt.show()"
   ]
  }
 ],
 "metadata": {
  "kernelspec": {
   "display_name": ".venv",
   "language": "python",
   "name": "python3"
  },
  "language_info": {
   "codemirror_mode": {
    "name": "ipython",
    "version": 3
   },
   "file_extension": ".py",
   "mimetype": "text/x-python",
   "name": "python",
   "nbconvert_exporter": "python",
   "pygments_lexer": "ipython3",
   "version": "3.11.2"
  }
 },
 "nbformat": 4,
 "nbformat_minor": 5
}
