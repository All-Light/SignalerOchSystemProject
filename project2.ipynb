{
 "cells": [
  {
   "cell_type": "code",
   "execution_count": null,
   "id": "a4820e65",
   "metadata": {},
   "outputs": [],
   "source": [
    "import numpy as np\n",
    "import matplotlib\n",
    "matplotlib.use('TkAgg')\n",
    "import matplotlib.pyplot as plt\n",
    "from scipy.signal import TransferFunction, lsim, butter\n",
    "from scipy.fft import fft, ifft"
   ]
  },
  {
   "cell_type": "markdown",
   "id": "058acc76",
   "metadata": {},
   "source": [
    "# Requirements\n",
    "Interesting signal f_i =< 8 kHz, A_i =< 1\n",
    "Noise signal f_n >= 11 kHz, A_n =< 1\n",
    "No signal between 8 kHz to 11 kHz\n",
    "\n",
    "# Task\n",
    "Design a anti-aliasing filter (LP) followed by 12-bit AD converter sampling at f_s <= 24 kHz\n",
    "Minimize order of anti-aliasing filter\n",
    "Interference in final signal must not exceed 0.5/2^11 V. \n",
    "Maximum ripple 3 dB\n",
    "\n",
    "# Thoughts\n",
    "The minimal sampling rate f_s  > 2*beta, where beta is the maximum interesting frequency\n",
    "Thus we need f_s > 16 kHz\n",
    "Let's start with f_s = 17 kHz\n",
    "\n",
    "Let's start by calculating the order of the Butterworth filter \n",
    "The order N is derived by: \n",
    "N = 1/2 * log(G_p / G_s) / log(w_p/w_s)\n",
    "Where:\n",
    "G_p is the gain of the pass-band: G_p = 1/(1-δ_p)^2 - 1\n",
    "G_s is the gain of the stop-band: G_s = 1/δ_s^2 -1 \n",
    "Note that δ_p is the maximum ripple/deviation in the pass-band and δ_s is the maximum ripple/deviation in the stop-band\n",
    "\n",
    "w_p is the maximum frequency of the pass-band\n",
    "w_s is the minimum frequency of the stop-band \n",
    "We choose w_p 8 kHz and w_s 11 kHz and caluclate the order:"
   ]
  },
  {
   "cell_type": "code",
   "execution_count": null,
   "id": "80370755",
   "metadata": {},
   "outputs": [
    {
     "name": "stdout",
     "output_type": "stream",
     "text": [
      "23.63173965273065\n"
     ]
    }
   ],
   "source": [
    "w_p, w_s = 8000, 11000\n",
    "# A_db = 20*log(A1/A2) -> A1 = A2*10^(A_db/20)\n",
    "δ_p = 10**(3/20)  # 1.4125375446227544\n",
    "δ_s = 0.5/2**11 # maximum interference allowed by specification\n",
    "G_p = 1/(1-δ_p)**2 - 1 #4.875881669435278\n",
    "G_s = 1/δ_s**2 -1  #\n",
    "N = 1/2 * np.log(G_p/G_s)/np.log(w_p/w_s)\n",
    "print(N) # We need N >= 24"
   ]
  },
  {
   "cell_type": "markdown",
   "id": "fea9085f",
   "metadata": {},
   "source": [
    "Let's also calculate the order needed for a Chebyschev filter "
   ]
  },
  {
   "cell_type": "code",
   "execution_count": null,
   "id": "0cf23028",
   "metadata": {},
   "outputs": [],
   "source": [
    "order = 2\n",
    "b_filter = butter(order, 8000,'lowpass', analog=True)"
   ]
  },
  {
   "cell_type": "code",
   "execution_count": null,
   "id": "8f57b129",
   "metadata": {},
   "outputs": [],
   "source": [
    "# w = 2*pi*f\n",
    "f_s = 17000\n",
    "T_s = 1/f_s\n",
    "t = np.linspace(0, 15*T_s, 100000)\n",
    "\n",
    "def x1(t):\n",
    "    return np.sin(2*np.pi*1000*t) # 1 kHz\n",
    "\n",
    "def x2(t):\n",
    "    return np.sin(2*np.pi*12000*t) # 12 kHz\n",
    "\n",
    "# Raw signals\n",
    "plt.plot(t, x1(t), label=\"1 kHz signal\")\n",
    "plt.plot(t, x2(t), label=\"12 kHz signal\")\n",
    "plt.xlabel(\"Time [s]\")\n",
    "plt.ylabel(\"Amplitude [V]\")\n",
    "plt.legend()\n",
    "plt.show()"
   ]
  },
  {
   "cell_type": "code",
   "execution_count": 47,
   "id": "70712a8a",
   "metadata": {},
   "outputs": [],
   "source": [
    "# Sampled signals\n",
    "t1 = np.linspace(0, 15*T_s, 15) # 15 samples on a time of 15 sample periods -> sampling\n",
    "x1_s = x1(t1)\n",
    "x2_s = x2(t1)\n",
    "\n",
    "plt.plot(t1, x1_s, label=\"1 kHz signal\")\n",
    "plt.plot(t1, x2_s, label=\"12 kHz signal\")\n",
    "plt.xlabel(\"Time [s]\")\n",
    "plt.ylabel(\"Amplitude [V]\")\n",
    "plt.legend()\n",
    "plt.show()"
   ]
  }
 ],
 "metadata": {
  "kernelspec": {
   "display_name": ".venv",
   "language": "python",
   "name": "python3"
  },
  "language_info": {
   "codemirror_mode": {
    "name": "ipython",
    "version": 3
   },
   "file_extension": ".py",
   "mimetype": "text/x-python",
   "name": "python",
   "nbconvert_exporter": "python",
   "pygments_lexer": "ipython3",
   "version": "3.11.2"
  }
 },
 "nbformat": 4,
 "nbformat_minor": 5
}
