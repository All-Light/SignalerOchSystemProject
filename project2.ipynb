{
 "cells": [
  {
   "cell_type": "code",
<<<<<<< HEAD
   "execution_count": 2,
=======
   "execution_count": 313,
>>>>>>> 4baffafb4883895a423419a63f2788b18fa47b15
   "id": "a4820e65",
   "metadata": {},
   "outputs": [],
   "source": [
    "import numpy as np\n",
    "import matplotlib\n",
    "matplotlib.use('TkAgg')\n",
    "import matplotlib.pyplot as plt\n",
    "from scipy.signal import lsim, cheby1, butter, bode, lti\n"
   ]
  },
  {
   "cell_type": "markdown",
   "id": "058acc76",
   "metadata": {},
   "source": [
    "# Requirements\n",
    "Interesting signal f_i =< 8 kHz, A_i =< 1,\n",
    "Noise signal f_n >= 11 kHz, A_n =< 1,\n",
    "No signal between 8 kHz to 11 kHz.\n",
    "\n",
    "# Task\n",
    "Design a anti-aliasing filter (LP) followed by 12-bit AD converter sampling at f_s <= 24 kHz.\n",
    "Minimize order of anti-aliasing filter.\n",
    "Interference in final signal must not exceed 0.5/2^11 V. \n",
    "Maximum ripple 3 dB.\n",
    "\n",
    "# Thoughts\n",
    "The minimal sampling rate f_s  > 2*beta, where beta is the maximum interesting frequency.\n",
    "Thus we need f_s > 16 kHz:\n",
    "Let's start with f_s = 17 kHz.\n",
    "\n",
    "Let's start by calculating the order of the Butterworth filter. \n",
    "The order N is derived by: \n",
    "N = 1/2 * log(G_p / G_s) / log(w_p/w_s)\n",
    "Where:\n",
    "G_p is the gain of the pass-band: G_p = 1/(1-δ_p)^2 - 1\n",
    "G_s is the gain of the stop-band: G_s = 1/δ_s^2 -1 \n",
    "Note that δ_p is the maximum ripple/deviation in the pass-band and δ_s is the maximum ripple/deviation in the stop-band.\n",
    "\n",
    "w_p is the maximum frequency of the pass-band.\n",
    "w_s is the minimum frequency of the stop-band.\n",
    "We choose w_p 8 kHz and w_s 11 kHz and caluclate the order:"
   ]
  },
  {
   "cell_type": "code",
   "execution_count": 3,
   "id": "80370755",
   "metadata": {},
   "outputs": [],
   "source": [
    "w_p, w_s = 8000, 11000\n",
    "# A_db = 20*log(A1/A2) -> A1 = A2*10^(A_db/20)\n",
    "δ_p = 10**(3/20)  # 1.4125375446227544\n",
    "δ_s = 0.5/2**11 # maximum interference allowed by specification\n",
    "G_p = 1/(1-δ_p)**2 - 1 #4.875881669435278\n",
    "G_s = 1/δ_s**2 -1  #"
   ]
  },
  {
   "cell_type": "code",
<<<<<<< HEAD
   "execution_count": 4,
=======
   "execution_count": 314,
>>>>>>> 4baffafb4883895a423419a63f2788b18fa47b15
   "id": "5b6d4dc0",
   "metadata": {},
   "outputs": [
    {
     "name": "stdout",
     "output_type": "stream",
     "text": [
      "23.63173965273065\n"
     ]
    }
   ],
   "source": [
    "#Butter\n",
    "N = 1/2 * np.log(G_p/G_s)/np.log(w_p/w_s)\n",
    "print(N) # We need N >= 24"
   ]
  },
  {
   "cell_type": "code",
<<<<<<< HEAD
   "execution_count": 5,
=======
   "execution_count": 315,
>>>>>>> 4baffafb4883895a423419a63f2788b18fa47b15
   "id": "2458d0c2",
   "metadata": {},
   "outputs": [],
   "source": [
    "# plot the butterworth filter \n",
    "order = 24\n",
    "b,a = butter(order, 8000*2*np.pi, 'lowpass', analog=True)\n",
    "f_s = 17000\n",
    "w, mag, phase = bode((b, a), w=np.logspace(0,6,2000))  # frequency response\n",
    "\n",
    "plt.figure(figsize=(10, 6))\n",
    "plt.semilogx(w / (2*np.pi), mag)  # convert rad/s → Hz\n",
    "plt.title('Chebyshev Type I Lowpass Filter (analog)')\n",
    "plt.ylabel('Magnitude [dB]')\n",
    "plt.xlabel('Frequency [Hz]')\n",
    "plt.grid(True, which='both')\n",
    "plt.show()"
   ]
  },
  {
   "cell_type": "markdown",
   "id": "fea9085f",
   "metadata": {},
   "source": [
    "Let's also calculate the order needed for a Chebyshev I filter. They generally have a faster roll-off but might become unstable.\n",
    "The order of the Chebyshev I filter is defined as:\n",
    "N = cosh^-1 (sqrt(G_s/G_p))\n",
    "\n",
    "The ripple control factor ϵ is defined as \n",
    "\n",
    "ϵ = sqrt(G_p) with G_p defined the same as above: G_p = 1/(1-δ_p)^2 - 1"
   ]
  },
  {
   "cell_type": "code",
<<<<<<< HEAD
   "execution_count": 6,
=======
   "execution_count": 316,
>>>>>>> 4baffafb4883895a423419a63f2788b18fa47b15
   "id": "baf8cfb1",
   "metadata": {},
   "outputs": [
    {
     "name": "stdout",
     "output_type": "stream",
     "text": [
      "9.772382819316107\n"
     ]
    }
   ],
   "source": [
    "# Chebyshev\n",
    "w_p, w_s = 8000, 11000 # 8000, 11000\n",
    "# A_db = 20*log(A1/A2) -> A1 = A2*10^(A_db/20)\n",
    "δ_p = 10**(3/20)  # 1.4125375446227544\n",
    "δ_s = 0.5/2**11 # maximum interference allowed by specification\n",
    "G_p = 1/(1-δ_p)**2 - 1 #4.875881669435278\n",
    "G_s = 1/δ_s**2 -1  \n",
    "\n",
    "ϵ = np.sqrt(1/(1-δ_p)**2 - 1) # 2.2081398663660954\n",
    "\n",
    "N = np.arccosh(np.sqrt(G_s/G_p))/np.arccosh(w_s/w_p) # 9.772382819316107\n",
    "print(N) "
   ]
  },
  {
   "cell_type": "markdown",
   "id": "c278a3b2",
   "metadata": {},
   "source": [
    "We can clearly see the Chebyshev I filter is much lower order (10) than Butterworth (24)\n",
    "We choose the Order 10 Chebyshev I filter"
   ]
  },
  {
   "cell_type": "code",
<<<<<<< HEAD
   "execution_count": 7,
=======
   "execution_count": 326,
>>>>>>> 4baffafb4883895a423419a63f2788b18fa47b15
   "id": "0cf23028",
   "metadata": {},
   "outputs": [],
   "source": [
    "order = 10\n",
    "b,a  = cheby1(order, 3, 10_000*2*np.pi, 'lowpass', analog=True)\n",
    "filter_c = lti(b,a)"
   ]
  },
  {
   "cell_type": "code",
<<<<<<< HEAD
   "execution_count": 8,
=======
   "execution_count": 332,
>>>>>>> 4baffafb4883895a423419a63f2788b18fa47b15
   "id": "5bb100f0",
   "metadata": {},
   "outputs": [],
   "source": [
    "w, mag, phase = bode(filter_c, w=np.logspace(0,5,2000))  # frequency response\n",
    "\n",
    "plt.figure(figsize=(10, 6))\n",
    "plt.semilogx(w / (2*np.pi), mag)  # convert rad/s → Hz\n",
    "plt.title('Chebyshev Type I Lowpass Filter (analog)')\n",
    "plt.ylabel('Magnitude [dB]')\n",
    "plt.xlabel('Frequency [Hz]')\n",
    "plt.grid(True, which='both')\n",
    "plt.show()"
   ]
  },
  {
   "cell_type": "code",
<<<<<<< HEAD
   "execution_count": 9,
=======
   "execution_count": null,
>>>>>>> 4baffafb4883895a423419a63f2788b18fa47b15
   "id": "8f57b129",
   "metadata": {},
   "outputs": [],
   "source": [
    "def x1(t):\n",
    "    return np.sin(2*np.pi*5000*t) # 8 kHz\n",
    "\n",
    "def x2(t):\n",
    "    return np.sin(2*np.pi*12000*t) # 12 kHz\n"
   ]
  },
  {
   "cell_type": "code",
<<<<<<< HEAD
   "execution_count": 10,
=======
   "execution_count": 336,
>>>>>>> 4baffafb4883895a423419a63f2788b18fa47b15
   "id": "473bf476",
   "metadata": {},
   "outputs": [],
   "source": [
    "# Raw signals\n",
    "f_s = 1_000_000\n",
    "T_s = 1/f_s\n",
    "n_samples = 200\n",
    "t = np.arange(n_samples) * T_s\n",
    "\n",
    "plt.plot(t*1000, x1(t), label=\"8 kHz signal\")\n",
    "plt.plot(t*1000, x2(t), label=\"12 kHz signal\")\n",
    "plt.xlabel(\"Time [ms]\")\n",
    "plt.ylabel(\"Amplitude [V]\")\n",
    "plt.legend()\n",
    "plt.show()"
   ]
  },
  {
   "cell_type": "code",
<<<<<<< HEAD
   "execution_count": 11,
=======
   "execution_count": 337,
>>>>>>> 4baffafb4883895a423419a63f2788b18fa47b15
   "id": "b824032f",
   "metadata": {},
   "outputs": [],
   "source": [
    "# Raw Superposition \n",
    "plt.plot(t*1000, x1(t) + x2(t), label=\"Superposition of signals\")\n",
    "plt.xlabel(\"Time [ms]\")\n",
    "plt.ylabel(\"Amplitude [V]\")\n",
    "plt.legend()\n",
    "plt.show()"
   ]
  },
  {
   "cell_type": "code",
<<<<<<< HEAD
   "execution_count": 12,
   "id": "22e6882e",
=======
   "execution_count": 343,
   "id": "d9b4354c",
>>>>>>> 4baffafb4883895a423419a63f2788b18fa47b15
   "metadata": {},
   "outputs": [],
   "source": [
    "# Filtered Superposition  \n",
    "fs_high = 1_000_000  # 10 MHz \"analog simulation rate\"\n",
    "t_high = np.arange(0, 1e-2, 1/fs_high)  # 10ms\n",
    "x_super= x1(t_high) + x2(t_high)\n",
    "\n",
    "t_out, y_out, _ = lsim(filter_c, x_super, t_high)\n",
    "\n",
    "plt.plot(t_out*1000, y_out, label=\"Filtered superposition of signals\")\n",
    "plt.xlabel(\"Time [ms]\")\n",
    "plt.ylabel(\"Amplitude [V]\")\n",
    "plt.legend()\n",
    "plt.show()\n"
   ]
  },
  {
   "cell_type": "code",
   "execution_count": 342,
   "id": "22e6882e",
   "metadata": {},
   "outputs": [],
   "source": [
    "fs_high = 1_000_000  # 10 MHz \"analog simulation rate\"\n",
    "t_high = np.arange(0, 1, 1/fs_high)  # 1s\n",
    "x_super= x1(t_high) + x2(t_high)\n",
    "\n",
    "t_out, y_out, _ = lsim(filter_c, x_super, t_high)\n",
    "# sampling\n",
    "f_s = 24_000\n",
    "T_s = 1/f_s\n",
    "\n",
    "t_samples = np.arange(t_out[0], t_out[-1], T_s)\n",
    "y_samples = np.interp(t_samples, t_out, y_out)\n",
    "\n",
    "plt.plot(t_samples, y_samples, label=\"Filtered & sampled superposition of signals\")\n",
    "plt.xlabel(\"Time [s]\")\n",
    "plt.ylabel(\"Amplitude [V]\")\n",
    "plt.legend()\n",
    "plt.show()"
   ]
  },
  {
   "cell_type": "code",
<<<<<<< HEAD
   "execution_count": 13,
=======
   "execution_count": 344,
>>>>>>> 4baffafb4883895a423419a63f2788b18fa47b15
   "id": "a710cbcc",
   "metadata": {},
   "outputs": [
    {
     "name": "stdout",
     "output_type": "stream",
     "text": [
      "24000\n",
      "0.9976458808477626\n"
     ]
    }
   ],
   "source": [
    "#FFT \n",
    "N = len(y_samples)\n",
    "print(N)\n",
    "Y =  np.fft.fft(y_samples, N)\n",
    "freqs = np.fft.fftfreq(N, d=T_s)\n",
    "\n",
    "\n",
<<<<<<< HEAD
    "Y_mag = np.abs(Y) / N # divide by N to normalize amplitude\n",
    "#Y_db = 20 * np.log10(Y_mag)  \n",
    "\n",
    "plt.figure(figsize=(8,4))\n",
    "plt.plot(freqs/1000, Y_mag)\n",
=======
    "Y_mag = 2*np.abs(Y) / N \n",
    "#Y_mag = np.abs(Y) / np.max(np.abs(Y))\n",
    "\n",
    "\n",
    "#Y_db = 20 * np.log10(Y_mag)\n",
    "print(np.max(Y_mag))\n",
    "\n",
    "plt.figure(figsize=(8,4))\n",
    "plt.plot(freqs[:N//2]/1000, Y_mag[:N//2])\n",
>>>>>>> 4baffafb4883895a423419a63f2788b18fa47b15
    "plt.title(\"Frequency Spectrum of y(t)\")\n",
    "plt.xlim((0,(f_s/2)/1000))\n",
    "plt.xlabel(\"Frequency [kHz]\")\n",
    "plt.ylabel(\"Magnitude [dB]\")\n",
    "plt.grid(True)\n",
    "plt.show()"
   ]
  }
 ],
 "metadata": {
  "kernelspec": {
   "display_name": "base",
   "language": "python",
   "name": "python3"
  },
  "language_info": {
   "codemirror_mode": {
    "name": "ipython",
    "version": 3
   },
   "file_extension": ".py",
   "mimetype": "text/x-python",
   "name": "python",
   "nbconvert_exporter": "python",
   "pygments_lexer": "ipython3",
   "version": "3.11.5"
  }
 },
 "nbformat": 4,
 "nbformat_minor": 5
}
